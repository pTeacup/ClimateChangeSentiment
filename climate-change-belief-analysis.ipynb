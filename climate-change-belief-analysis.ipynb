{
 "cells": [
  {
   "cell_type": "code",
   "execution_count": 1,
   "id": "60d5c4cc",
   "metadata": {
    "_cell_guid": "b1076dfc-b9ad-4769-8c92-a6c4dae69d19",
    "_uuid": "8f2839f25d086af736a60e9eeb907d3b93b6e0e5",
    "execution": {
     "iopub.execute_input": "2021-09-26T22:07:08.564736Z",
     "iopub.status.busy": "2021-09-26T22:07:08.563973Z",
     "iopub.status.idle": "2021-09-26T22:07:15.421416Z",
     "shell.execute_reply": "2021-09-26T22:07:15.420635Z",
     "shell.execute_reply.started": "2021-09-26T21:22:12.406658Z"
    },
    "papermill": {
     "duration": 6.909574,
     "end_time": "2021-09-26T22:07:15.421579",
     "exception": false,
     "start_time": "2021-09-26T22:07:08.512005",
     "status": "completed"
    },
    "tags": []
   },
   "outputs": [
    {
     "name": "stderr",
     "output_type": "stream",
     "text": [
      "2021-09-26 22:07:09.217987: W tensorflow/stream_executor/platform/default/dso_loader.cc:60] Could not load dynamic library 'libcudart.so.11.0'; dlerror: libcudart.so.11.0: cannot open shared object file: No such file or directory; LD_LIBRARY_PATH: /opt/conda/lib\n",
      "2021-09-26 22:07:09.218097: I tensorflow/stream_executor/cuda/cudart_stub.cc:29] Ignore above cudart dlerror if you do not have a GPU set up on your machine.\n"
     ]
    }
   ],
   "source": [
    "import tensorflow as tf\n",
    "import numpy as np\n",
    "from numpy.random import seed\n",
    "import pandas as pd\n",
    "import matplotlib.pyplot as plt\n",
    "%matplotlib inline\n",
    "from random import randint\n",
    "import os\n",
    "import nltk\n",
    "import string\n",
    "import regex as re\n",
    "import emoji\n",
    "\n",
    "from sklearn.feature_extraction.text import CountVectorizer\n",
    "from sklearn.model_selection import cross_val_score\n",
    "from sklearn.model_selection import GridSearchCV\n",
    "from sklearn.model_selection import train_test_split\n",
    "from nltk import word_tokenize          \n",
    "from nltk.stem import WordNetLemmatizer\n",
    "from nltk.stem.porter import PorterStemmer\n",
    "\n",
    "\n",
    "from sklearn import preprocessing\n",
    "from sklearn.preprocessing import LabelEncoder\n",
    "from sklearn.preprocessing import MinMaxScaler\n",
    "from sklearn.preprocessing import StandardScaler\n",
    "\n",
    "from sklearn.metrics import accuracy_score\n",
    "from sklearn.metrics import roc_auc_score\n",
    "from sklearn.metrics import recall_score\n",
    "from sklearn.metrics import precision_score\n",
    "from sklearn.metrics import f1_score\n",
    "from sklearn import metrics\n",
    "from sklearn.metrics import make_scorer\n",
    "f1 = make_scorer(f1_score , average='macro')\n",
    "\n",
    "from sklearn.linear_model import LogisticRegression\n",
    "from sklearn.neighbors import KNeighborsClassifier\n",
    "from sklearn.naive_bayes import MultinomialNB\n",
    "from sklearn.svm import SVC\n",
    "from sklearn.ensemble import RandomForestClassifier\n",
    "from sklearn.ensemble import VotingClassifier\n",
    "from mlxtend.classifier import StackingCVClassifier\n",
    "\n",
    "from tensorflow.keras.layers import Dense\n",
    "from tensorflow.keras.models import Sequential\n",
    "from tensorflow.keras.layers import Activation, Dropout\n",
    "from tensorflow.keras.utils import to_categorical\n",
    "from tensorflow.random import set_seed\n",
    "from tensorflow.keras.wrappers.scikit_learn import KerasClassifier\n",
    "\n",
    "\n",
    "class LemmaTokenizer(object):\n",
    "    def __init__(self):\n",
    "        self.wnl = WordNetLemmatizer()\n",
    "    def __call__(self, articles):\n",
    "        return [self.wnl.lemmatize(t) for t in word_tokenize(articles)]"
   ]
  },
  {
   "cell_type": "markdown",
   "id": "6c115586",
   "metadata": {
    "papermill": {
     "duration": 0.02531,
     "end_time": "2021-09-26T22:07:15.473111",
     "exception": false,
     "start_time": "2021-09-26T22:07:15.447801",
     "status": "completed"
    },
    "tags": []
   },
   "source": [
    "## Import Datasets"
   ]
  },
  {
   "cell_type": "code",
   "execution_count": 2,
   "id": "337d5b40",
   "metadata": {
    "execution": {
     "iopub.execute_input": "2021-09-26T22:07:15.530289Z",
     "iopub.status.busy": "2021-09-26T22:07:15.529617Z",
     "iopub.status.idle": "2021-09-26T22:07:15.703114Z",
     "shell.execute_reply": "2021-09-26T22:07:15.702558Z",
     "shell.execute_reply.started": "2021-09-26T21:23:56.991874Z"
    },
    "papermill": {
     "duration": 0.204575,
     "end_time": "2021-09-26T22:07:15.703259",
     "exception": false,
     "start_time": "2021-09-26T22:07:15.498684",
     "status": "completed"
    },
    "tags": []
   },
   "outputs": [
    {
     "data": {
      "text/html": [
       "<div>\n",
       "<style scoped>\n",
       "    .dataframe tbody tr th:only-of-type {\n",
       "        vertical-align: middle;\n",
       "    }\n",
       "\n",
       "    .dataframe tbody tr th {\n",
       "        vertical-align: top;\n",
       "    }\n",
       "\n",
       "    .dataframe thead th {\n",
       "        text-align: right;\n",
       "    }\n",
       "</style>\n",
       "<table border=\"1\" class=\"dataframe\">\n",
       "  <thead>\n",
       "    <tr style=\"text-align: right;\">\n",
       "      <th></th>\n",
       "      <th>sentiment</th>\n",
       "      <th>message</th>\n",
       "      <th>tweetid</th>\n",
       "    </tr>\n",
       "  </thead>\n",
       "  <tbody>\n",
       "    <tr>\n",
       "      <th>0</th>\n",
       "      <td>1</td>\n",
       "      <td>PolySciMajor EPA chief doesn't think carbon dioxide is main cause of global warming and.. wait, what!? https://t.co/yeLvcEFXkC via @mashable</td>\n",
       "      <td>625221</td>\n",
       "    </tr>\n",
       "    <tr>\n",
       "      <th>1</th>\n",
       "      <td>1</td>\n",
       "      <td>It's not like we lack evidence of anthropogenic global warming</td>\n",
       "      <td>126103</td>\n",
       "    </tr>\n",
       "    <tr>\n",
       "      <th>2</th>\n",
       "      <td>2</td>\n",
       "      <td>RT @RawStory: Researchers say we have three years to act on climate change before it’s too late https://t.co/WdT0KdUr2f https://t.co/Z0ANPT…</td>\n",
       "      <td>698562</td>\n",
       "    </tr>\n",
       "    <tr>\n",
       "      <th>3</th>\n",
       "      <td>1</td>\n",
       "      <td>#TodayinMaker# WIRED : 2016 was a pivotal year in the war on climate change https://t.co/44wOTxTLcD</td>\n",
       "      <td>573736</td>\n",
       "    </tr>\n",
       "    <tr>\n",
       "      <th>4</th>\n",
       "      <td>1</td>\n",
       "      <td>RT @SoyNovioDeTodas: It's 2016, and a racist, sexist, climate change denying bigot is leading in the polls. #ElectionNight</td>\n",
       "      <td>466954</td>\n",
       "    </tr>\n",
       "    <tr>\n",
       "      <th>5</th>\n",
       "      <td>1</td>\n",
       "      <td>Worth a read whether you do or don't believe in climate change https://t.co/ggLZVNYjun https://t.co/7AFE2mAH8j</td>\n",
       "      <td>425577</td>\n",
       "    </tr>\n",
       "    <tr>\n",
       "      <th>6</th>\n",
       "      <td>1</td>\n",
       "      <td>RT @thenation: Mike Pence doesn’t believe in global warming or that smoking causes lung cancer. https://t.co/gvWYaauU8R</td>\n",
       "      <td>294933</td>\n",
       "    </tr>\n",
       "    <tr>\n",
       "      <th>7</th>\n",
       "      <td>1</td>\n",
       "      <td>RT @makeandmendlife: Six big things we can ALL do today to fight climate change, or how to be a climate activistÃ¢â‚¬Â¦ https://t.co/TYMLu6DbNM hÃ¢â‚¬Â¦</td>\n",
       "      <td>992717</td>\n",
       "    </tr>\n",
       "    <tr>\n",
       "      <th>8</th>\n",
       "      <td>1</td>\n",
       "      <td>@AceofSpadesHQ My 8yo nephew is inconsolable. He wants to die of old age like me, but will perish in the fiery hellscape of climate change.</td>\n",
       "      <td>664510</td>\n",
       "    </tr>\n",
       "    <tr>\n",
       "      <th>9</th>\n",
       "      <td>1</td>\n",
       "      <td>RT @paigetweedy: no offense… but like… how do you just not believe… in global warming………</td>\n",
       "      <td>260471</td>\n",
       "    </tr>\n",
       "    <tr>\n",
       "      <th>10</th>\n",
       "      <td>1</td>\n",
       "      <td>RT @StephenSchlegel: she's thinking about how she's going to die because your husband doesn't believe in climate change https://t.co/SjoFoNÃ¢â‚¬Â¦</td>\n",
       "      <td>295793</td>\n",
       "    </tr>\n",
       "    <tr>\n",
       "      <th>11</th>\n",
       "      <td>1</td>\n",
       "      <td>I do hope people who are vocal about climate change also powering their homes with renewable energy, like @GoodEnergy</td>\n",
       "      <td>763719</td>\n",
       "    </tr>\n",
       "    <tr>\n",
       "      <th>12</th>\n",
       "      <td>2</td>\n",
       "      <td>RT @tveitdal: We only have a 5 percent chance of avoiding ‘dangerous’ global warming, a study finds https://t.co/xUBTqNxhkK https://t.co/of…</td>\n",
       "      <td>454673</td>\n",
       "    </tr>\n",
       "    <tr>\n",
       "      <th>13</th>\n",
       "      <td>1</td>\n",
       "      <td>RT @Alifaith55: Oh. My. God.\\n\\nTrump's Government removes climate change page from EPA website hours ahead of #climatemarch\\n\\nhttps://t.co/9z…</td>\n",
       "      <td>41161</td>\n",
       "    </tr>\n",
       "    <tr>\n",
       "      <th>14</th>\n",
       "      <td>2</td>\n",
       "      <td>Fossil fuel giant ExxonMobil ‘misled’ the public about climate change, Harvard academics conclude https://t.co/ofc2WSu4EX</td>\n",
       "      <td>658092</td>\n",
       "    </tr>\n",
       "    <tr>\n",
       "      <th>15</th>\n",
       "      <td>1</td>\n",
       "      <td>RT @GlblCtzn: 'I don't wanna live forever – and nothing will because climate change' ����️�� @taylorswift13 @zaynmalik https://t.co/TuI64Zk9gV</td>\n",
       "      <td>319524</td>\n",
       "    </tr>\n",
       "    <tr>\n",
       "      <th>16</th>\n",
       "      <td>1</td>\n",
       "      <td>RT @jackholmes0: Issues scrubbed from https://t.co/T1VZSO9N7G today: Civil rights, climate change, LGBT, healthcare…</td>\n",
       "      <td>698009</td>\n",
       "    </tr>\n",
       "    <tr>\n",
       "      <th>17</th>\n",
       "      <td>1</td>\n",
       "      <td>RT @patagonia: If our elected leaders fail to approach the environment &amp;amp; climate change as serious issues worthy of urgency &amp;amp; action, it wiÃ¢â‚¬Â¦</td>\n",
       "      <td>490604</td>\n",
       "    </tr>\n",
       "    <tr>\n",
       "      <th>18</th>\n",
       "      <td>1</td>\n",
       "      <td>RT @SenSanders: We have a president-elect who doesn't believe in climate change. Millions of people are going to have to say: Mr. TÃ¢â‚¬Â¦</td>\n",
       "      <td>228658</td>\n",
       "    </tr>\n",
       "    <tr>\n",
       "      <th>19</th>\n",
       "      <td>0</td>\n",
       "      <td>Calum: *tweets abt reunitingish w the cast*\\n-sees replies begging him to come to their countries-\\nCalum: *goes back to rting climate change*</td>\n",
       "      <td>547924</td>\n",
       "    </tr>\n",
       "  </tbody>\n",
       "</table>\n",
       "</div>"
      ],
      "text/plain": [
       "    sentiment  \\\n",
       "0           1   \n",
       "1           1   \n",
       "2           2   \n",
       "3           1   \n",
       "4           1   \n",
       "5           1   \n",
       "6           1   \n",
       "7           1   \n",
       "8           1   \n",
       "9           1   \n",
       "10          1   \n",
       "11          1   \n",
       "12          2   \n",
       "13          1   \n",
       "14          2   \n",
       "15          1   \n",
       "16          1   \n",
       "17          1   \n",
       "18          1   \n",
       "19          0   \n",
       "\n",
       "                                                                                                                                                       message  \\\n",
       "0                 PolySciMajor EPA chief doesn't think carbon dioxide is main cause of global warming and.. wait, what!? https://t.co/yeLvcEFXkC via @mashable   \n",
       "1                                                                                               It's not like we lack evidence of anthropogenic global warming   \n",
       "2                 RT @RawStory: Researchers say we have three years to act on climate change before it’s too late https://t.co/WdT0KdUr2f https://t.co/Z0ANPT…   \n",
       "3                                                          #TodayinMaker# WIRED : 2016 was a pivotal year in the war on climate change https://t.co/44wOTxTLcD   \n",
       "4                                   RT @SoyNovioDeTodas: It's 2016, and a racist, sexist, climate change denying bigot is leading in the polls. #ElectionNight   \n",
       "5                                               Worth a read whether you do or don't believe in climate change https://t.co/ggLZVNYjun https://t.co/7AFE2mAH8j   \n",
       "6                                      RT @thenation: Mike Pence doesn’t believe in global warming or that smoking causes lung cancer. https://t.co/gvWYaauU8R   \n",
       "7     RT @makeandmendlife: Six big things we can ALL do today to fight climate change, or how to be a climate activistÃ¢â‚¬Â¦ https://t.co/TYMLu6DbNM hÃ¢â‚¬Â¦   \n",
       "8                  @AceofSpadesHQ My 8yo nephew is inconsolable. He wants to die of old age like me, but will perish in the fiery hellscape of climate change.   \n",
       "9                                                                     RT @paigetweedy: no offense… but like… how do you just not believe… in global warming………   \n",
       "10          RT @StephenSchlegel: she's thinking about how she's going to die because your husband doesn't believe in climate change https://t.co/SjoFoNÃ¢â‚¬Â¦   \n",
       "11                                       I do hope people who are vocal about climate change also powering their homes with renewable energy, like @GoodEnergy   \n",
       "12                RT @tveitdal: We only have a 5 percent chance of avoiding ‘dangerous’ global warming, a study finds https://t.co/xUBTqNxhkK https://t.co/of…   \n",
       "13            RT @Alifaith55: Oh. My. God.\\n\\nTrump's Government removes climate change page from EPA website hours ahead of #climatemarch\\n\\nhttps://t.co/9z…   \n",
       "14                                   Fossil fuel giant ExxonMobil ‘misled’ the public about climate change, Harvard academics conclude https://t.co/ofc2WSu4EX   \n",
       "15              RT @GlblCtzn: 'I don't wanna live forever – and nothing will because climate change' ����️�� @taylorswift13 @zaynmalik https://t.co/TuI64Zk9gV   \n",
       "16                                       RT @jackholmes0: Issues scrubbed from https://t.co/T1VZSO9N7G today: Civil rights, climate change, LGBT, healthcare…    \n",
       "17  RT @patagonia: If our elected leaders fail to approach the environment &amp; climate change as serious issues worthy of urgency &amp; action, it wiÃ¢â‚¬Â¦   \n",
       "18                  RT @SenSanders: We have a president-elect who doesn't believe in climate change. Millions of people are going to have to say: Mr. TÃ¢â‚¬Â¦   \n",
       "19              Calum: *tweets abt reunitingish w the cast*\\n-sees replies begging him to come to their countries-\\nCalum: *goes back to rting climate change*   \n",
       "\n",
       "    tweetid  \n",
       "0    625221  \n",
       "1    126103  \n",
       "2    698562  \n",
       "3    573736  \n",
       "4    466954  \n",
       "5    425577  \n",
       "6    294933  \n",
       "7    992717  \n",
       "8    664510  \n",
       "9    260471  \n",
       "10   295793  \n",
       "11   763719  \n",
       "12   454673  \n",
       "13    41161  \n",
       "14   658092  \n",
       "15   319524  \n",
       "16   698009  \n",
       "17   490604  \n",
       "18   228658  \n",
       "19   547924  "
      ]
     },
     "execution_count": 2,
     "metadata": {},
     "output_type": "execute_result"
    }
   ],
   "source": [
    "train_df = pd.read_csv('../input/climate-change-tweet-data/train.csv')\n",
    "test_df = pd.read_csv('../input/climate-change-tweet-data/test_with_no_labels.csv')\n",
    "\n",
    "pd.options.display.max_colwidth = 250\n",
    "pd.options.display.width = None\n",
    "train_df.head(20)"
   ]
  },
  {
   "cell_type": "code",
   "execution_count": 3,
   "id": "52ad1966",
   "metadata": {
    "execution": {
     "iopub.execute_input": "2021-09-26T22:07:15.767610Z",
     "iopub.status.busy": "2021-09-26T22:07:15.766920Z",
     "iopub.status.idle": "2021-09-26T22:07:15.776860Z",
     "shell.execute_reply": "2021-09-26T22:07:15.776211Z",
     "shell.execute_reply.started": "2021-09-26T21:24:00.832907Z"
    },
    "papermill": {
     "duration": 0.047483,
     "end_time": "2021-09-26T22:07:15.776999",
     "exception": false,
     "start_time": "2021-09-26T22:07:15.729516",
     "status": "completed"
    },
    "tags": []
   },
   "outputs": [
    {
     "name": "stdout",
     "output_type": "stream",
     "text": [
      "9178      Lol love this: climate change's a threat to Mattis bc it'll make terrorizing the mideast to secure US oil assets a… https://t.co/6c4JZD4W8x\n",
      "6326      @realDonaldTrump Why have you forbid our scientists to talk about climate change? Why remove water regulations? Do… https://t.co/EBzi09iiIH\n",
      "13534    Have fun enjoying your President who doesn't believe in climate change. Educate yourself because your children's lives depend on it Ã°Å¸ËœÅ \n",
      "4792                         RT @KenyaCIC: clear evidence of climate change join the movement #CLP17 let's make a change @SustainAfri @ClimateLaunch…\n",
      "8885     RT @bradplumer: The Energy Department has rejected Trump’s request to identify employees who worked on climate change: https://t.co/VjVUe2Y…\n",
      "Name: message, dtype: object\n"
     ]
    }
   ],
   "source": [
    "X_tv, X_test, y_tv, y_test = train_test_split(train_df['message'],train_df['sentiment'],test_size = 0.1, random_state = 42)\n",
    "X_train, X_val, y_train, y_val = train_test_split(X_tv, y_tv, test_size = 0.2, random_state = 42)\n",
    "print(X_train.head())"
   ]
  },
  {
   "cell_type": "markdown",
   "id": "b2818f51",
   "metadata": {
    "papermill": {
     "duration": 0.02845,
     "end_time": "2021-09-26T22:07:15.832457",
     "exception": false,
     "start_time": "2021-09-26T22:07:15.804007",
     "status": "completed"
    },
    "tags": []
   },
   "source": [
    "## Preprocess Data"
   ]
  },
  {
   "cell_type": "code",
   "execution_count": 4,
   "id": "a18a3edc",
   "metadata": {
    "execution": {
     "iopub.execute_input": "2021-09-26T22:07:15.903131Z",
     "iopub.status.busy": "2021-09-26T22:07:15.900371Z",
     "iopub.status.idle": "2021-09-26T22:07:15.905234Z",
     "shell.execute_reply": "2021-09-26T22:07:15.905716Z",
     "shell.execute_reply.started": "2021-09-26T21:24:03.863939Z"
    },
    "papermill": {
     "duration": 0.046314,
     "end_time": "2021-09-26T22:07:15.905893",
     "exception": false,
     "start_time": "2021-09-26T22:07:15.859579",
     "status": "completed"
    },
    "tags": []
   },
   "outputs": [],
   "source": [
    "def CleanTweets(list_of_tweets):\n",
    "    clean_tweets = []\n",
    "    lemmer=WordNetLemmatizer()\n",
    "    \n",
    "    for tweet in list_of_tweets:\n",
    "        tweet = re.sub(\"@[A-Za-z0-9]+\",\"\",tweet)                          #Remove @ sign\n",
    "        tweet = re.sub(r\"(?:\\@|http?\\://|https?\\://|www)\\S+\", \"\", tweet)  #Removes full http links\n",
    "        tweet = re.sub(r'htt\\S+', '', tweet)                              #Remove partial http links\n",
    "        tweet = re.sub(\"\\d+\", \" \", tweet)                                #Remove numbers\n",
    "        tweet = \" \".join(tweet.split())\n",
    "        tweet = ''.join(c for c in tweet if c not in emoji.UNICODE_EMOJI) #Remove Emojis\n",
    "        tweet = tweet.replace(\"#\", \"\").replace(\"_\", \" \")                  #Remove hashtag sign but keep the text\n",
    "        tweet = tweet.replace(\"&amp;\", \"and\").replace('Ã¢â‚¬Â¦','...')    #Removes weird encoding issue\n",
    "\n",
    "        tweet = re.sub(r\"won\\'t\", \"will not\", tweet)                      #Remove all contractions\n",
    "        tweet = re.sub(r\"can\\'t\", \"can not\", tweet)\n",
    "\n",
    "        tweet = re.sub(r\"n\\'t\", \" not\", tweet)\n",
    "        tweet = re.sub(r\"\\'re\", \" are\", tweet)\n",
    "        tweet = re.sub(r\"\\'s\", \" is\", tweet)\n",
    "        tweet = re.sub(r\"\\'d\", \" would\", tweet)\n",
    "        tweet = re.sub(r\"\\'ll\", \" will\", tweet)\n",
    "        tweet = re.sub(r\"\\'t\", \" not\", tweet)\n",
    "        tweet = re.sub(r\"\\'ve\", \" have\", tweet)\n",
    "        tweet = re.sub(r\"\\'m\", \" am\", tweet)\n",
    "\n",
    "        tweet = tweet.encode('ascii', errors='replace').decode('utf8', errors='replace').encode('ascii', errors='replace').decode('utf8', errors='replace')\n",
    "                 \n",
    "        tweet = ' '.join([lemmer.lemmatize(word) for word in tweet.split(' ')])    \n",
    "            \n",
    "        clean_tweets.append(tweet)\n",
    "                    \n",
    "        clean_tweets = [str(tweet) for tweet in clean_tweets]\n",
    "    return clean_tweets"
   ]
  },
  {
   "cell_type": "code",
   "execution_count": 5,
   "id": "94f3a31e",
   "metadata": {
    "execution": {
     "iopub.execute_input": "2021-09-26T22:07:15.963162Z",
     "iopub.status.busy": "2021-09-26T22:07:15.962399Z",
     "iopub.status.idle": "2021-09-26T22:07:47.807319Z",
     "shell.execute_reply": "2021-09-26T22:07:47.807918Z",
     "shell.execute_reply.started": "2021-09-26T21:24:08.324586Z"
    },
    "papermill": {
     "duration": 31.875324,
     "end_time": "2021-09-26T22:07:47.808101",
     "exception": false,
     "start_time": "2021-09-26T22:07:15.932777",
     "status": "completed"
    },
    "tags": []
   },
   "outputs": [],
   "source": [
    "#X_train_clean = pd.DataFrame(CleanTweets(X_train))\n",
    "#X_val_clean = pd.DataFrame(CleanTweets(X_val))\n",
    "#X_tv_clean = pd.DataFrame(CleanTweets(X_tv))\n",
    "\n",
    "X_full_clean = pd.DataFrame(CleanTweets(train_df['message']))\n",
    "X_test_clean = pd.DataFrame(CleanTweets(test_df['message']))"
   ]
  },
  {
   "cell_type": "code",
   "execution_count": 6,
   "id": "72051391",
   "metadata": {
    "execution": {
     "iopub.execute_input": "2021-09-26T22:07:47.864850Z",
     "iopub.status.busy": "2021-09-26T22:07:47.864136Z",
     "iopub.status.idle": "2021-09-26T22:07:49.713236Z",
     "shell.execute_reply": "2021-09-26T22:07:49.712666Z",
     "shell.execute_reply.started": "2021-09-26T21:24:43.418248Z"
    },
    "papermill": {
     "duration": 1.878075,
     "end_time": "2021-09-26T22:07:49.713401",
     "exception": false,
     "start_time": "2021-09-26T22:07:47.835326",
     "status": "completed"
    },
    "tags": []
   },
   "outputs": [],
   "source": [
    "#vect = CountVectorizer(max_features=15000, stop_words='english', analyzer='word', ngram_range=(1, 2))\n",
    "#vectVal = CountVectorizer(max_features=15000, stop_words='english', analyzer='word', ngram_range=(1, 2))\n",
    "vectTest = CountVectorizer(max_features=20000, stop_words='english', analyzer='word', ngram_range=(1, 2))\n",
    "\n",
    "\n",
    "#X_t = vect.fit_transform(X_train_clean.stack()).toarray()\n",
    "#X_tv = vectVal.fit_transform(X_tv_clean.stack()).toarray()\n",
    "X_full = vectTest.fit_transform(X_full_clean.stack()).toarray()\n",
    "X_test_full = vectTest.transform(X_test_clean.stack()).toarray()"
   ]
  },
  {
   "cell_type": "code",
   "execution_count": 7,
   "id": "4bc11fb5",
   "metadata": {
    "execution": {
     "iopub.execute_input": "2021-09-26T22:07:49.776452Z",
     "iopub.status.busy": "2021-09-26T22:07:49.775367Z",
     "iopub.status.idle": "2021-09-26T22:07:49.777349Z",
     "shell.execute_reply": "2021-09-26T22:07:49.777851Z",
     "shell.execute_reply.started": "2021-09-26T21:26:52.459596Z"
    },
    "papermill": {
     "duration": 0.037587,
     "end_time": "2021-09-26T22:07:49.778019",
     "exception": false,
     "start_time": "2021-09-26T22:07:49.740432",
     "status": "completed"
    },
    "tags": []
   },
   "outputs": [],
   "source": [
    "def create_model(lyrs=[8], act='linear', opt='Adam', dr=0.0):\n",
    "    seed(42)\n",
    "    set_seed(42)\n",
    "    \n",
    "    model = Sequential()\n",
    "    \n",
    "    \n",
    "    ##### INPUT DIMS ######\n",
    "    model.add(Dense(lyrs[0], input_dim=X_full.shape[1], activation=act))\n",
    "    \n",
    "    for i in range(1,len(lyrs)):\n",
    "        model.add(Dense(lyrs[i], activation=act))\n",
    "    \n",
    "    # add dropout, default is none\n",
    "    model.add(Dropout(dr))\n",
    "    \n",
    "    # create output layer\n",
    "    model.add(Dense(4, activation='softmax'))  # output layer\n",
    "    \n",
    "    model.compile(loss='categorical_crossentropy', optimizer='adam', metrics=['accuracy'])\n",
    "    \n",
    "    return model"
   ]
  },
  {
   "cell_type": "markdown",
   "id": "6c9ce3fa",
   "metadata": {
    "papermill": {
     "duration": 0.026006,
     "end_time": "2021-09-26T22:07:49.830788",
     "exception": false,
     "start_time": "2021-09-26T22:07:49.804782",
     "status": "completed"
    },
    "tags": []
   },
   "source": [
    "## Validate Models"
   ]
  },
  {
   "cell_type": "code",
   "execution_count": 8,
   "id": "d1aed418",
   "metadata": {
    "execution": {
     "iopub.execute_input": "2021-09-26T22:07:49.889728Z",
     "iopub.status.busy": "2021-09-26T22:07:49.889026Z",
     "iopub.status.idle": "2021-09-26T22:07:50.258162Z",
     "shell.execute_reply": "2021-09-26T22:07:50.256663Z",
     "shell.execute_reply.started": "2021-09-26T19:55:07.434772Z"
    },
    "papermill": {
     "duration": 0.40115,
     "end_time": "2021-09-26T22:07:50.258466",
     "exception": true,
     "start_time": "2021-09-26T22:07:49.857316",
     "status": "failed"
    },
    "tags": []
   },
   "outputs": [
    {
     "ename": "NameError",
     "evalue": "name 'X_t' is not defined",
     "output_type": "error",
     "traceback": [
      "\u001b[0;31m---------------------------------------------------------------------------\u001b[0m",
      "\u001b[0;31mNameError\u001b[0m                                 Traceback (most recent call last)",
      "\u001b[0;32m/tmp/ipykernel_19/429197663.py\u001b[0m in \u001b[0;36m<module>\u001b[0;34m\u001b[0m\n\u001b[1;32m      4\u001b[0m \u001b[0mgrid_mnb\u001b[0m \u001b[0;34m=\u001b[0m \u001b[0mGridSearchCV\u001b[0m\u001b[0;34m(\u001b[0m\u001b[0mMultinomialNB\u001b[0m\u001b[0;34m(\u001b[0m\u001b[0;34m)\u001b[0m\u001b[0;34m,\u001b[0m \u001b[0mmnb_param_grid\u001b[0m\u001b[0;34m,\u001b[0m \u001b[0mscoring\u001b[0m \u001b[0;34m=\u001b[0m \u001b[0mf1\u001b[0m\u001b[0;34m,\u001b[0m \u001b[0mcv\u001b[0m \u001b[0;34m=\u001b[0m \u001b[0;36m5\u001b[0m\u001b[0;34m,\u001b[0m \u001b[0mverbose\u001b[0m \u001b[0;34m=\u001b[0m \u001b[0;36m10\u001b[0m\u001b[0;34m)\u001b[0m\u001b[0;34m\u001b[0m\u001b[0;34m\u001b[0m\u001b[0m\n\u001b[1;32m      5\u001b[0m \u001b[0;34m\u001b[0m\u001b[0m\n\u001b[0;32m----> 6\u001b[0;31m \u001b[0mgrid_mnb\u001b[0m\u001b[0;34m.\u001b[0m\u001b[0mfit\u001b[0m\u001b[0;34m(\u001b[0m\u001b[0mX_t\u001b[0m\u001b[0;34m,\u001b[0m \u001b[0my_train\u001b[0m\u001b[0;34m)\u001b[0m\u001b[0;34m\u001b[0m\u001b[0;34m\u001b[0m\u001b[0m\n\u001b[0m\u001b[1;32m      7\u001b[0m \u001b[0;34m\u001b[0m\u001b[0m\n\u001b[1;32m      8\u001b[0m \u001b[0mgrid_mnb\u001b[0m\u001b[0;34m.\u001b[0m\u001b[0mcv_results_\u001b[0m\u001b[0;34m\u001b[0m\u001b[0;34m\u001b[0m\u001b[0m\n",
      "\u001b[0;31mNameError\u001b[0m: name 'X_t' is not defined"
     ]
    }
   ],
   "source": [
    "## NAIVE BAYES\n",
    "\n",
    "mnb_param_grid = {'alpha': [0.7]}\n",
    "grid_mnb = GridSearchCV(MultinomialNB(), mnb_param_grid, scoring = f1, cv = 5, verbose = 10)\n",
    "\n",
    "grid_mnb.fit(X_t, y_train)\n",
    "\n",
    "grid_mnb.cv_results_\n",
    "grid_mnb.best_estimator_"
   ]
  },
  {
   "cell_type": "code",
   "execution_count": null,
   "id": "017d1885",
   "metadata": {
    "execution": {
     "iopub.status.busy": "2021-09-26T19:55:07.436149Z",
     "iopub.status.idle": "2021-09-26T19:55:07.43645Z",
     "shell.execute_reply": "2021-09-26T19:55:07.436303Z",
     "shell.execute_reply.started": "2021-09-26T19:55:07.436289Z"
    },
    "papermill": {
     "duration": null,
     "end_time": null,
     "exception": null,
     "start_time": null,
     "status": "pending"
    },
    "tags": []
   },
   "outputs": [],
   "source": [
    "## RANDOM FOREST\n",
    "\n",
    "rf_param_grid = {'max_depth': [100],\n",
    " 'max_features': ['auto'],\n",
    " 'min_samples_leaf': [1],\n",
    " 'min_samples_split': [2],\n",
    " 'n_estimators': [800]}\n",
    "grid_rf = GridSearchCV(RandomForestClassifier(class_weight = 'balanced'), rf_param_grid, scoring = f1, cv = 5, verbose = 10)\n",
    "\n",
    "grid_rf.fit(X_t, y_train)\n",
    "\n",
    "grid_rf.cv_results_\n",
    "grid_rf.best_estimator_"
   ]
  },
  {
   "cell_type": "code",
   "execution_count": null,
   "id": "4a2ff6d1",
   "metadata": {
    "execution": {
     "iopub.status.busy": "2021-09-26T19:55:07.437373Z",
     "iopub.status.idle": "2021-09-26T19:55:07.437668Z",
     "shell.execute_reply": "2021-09-26T19:55:07.437527Z",
     "shell.execute_reply.started": "2021-09-26T19:55:07.437513Z"
    },
    "papermill": {
     "duration": null,
     "end_time": null,
     "exception": null,
     "start_time": null,
     "status": "pending"
    },
    "tags": []
   },
   "outputs": [],
   "source": [
    "## KNN\n",
    "\n",
    "knn_param_grid = {'n_neighbors' : [1]}\n",
    "grid_knn = GridSearchCV(KNeighborsClassifier(algorithm = 'brute'), knn_param_grid, scoring = f1, cv = 5, verbose = 10)\n",
    "\n",
    "grid_knn.fit(X_t, y_train)\n",
    "\n",
    "grid_knn.cv_results_\n",
    "grid_knn.best_estimator_"
   ]
  },
  {
   "cell_type": "code",
   "execution_count": null,
   "id": "449f6e05",
   "metadata": {
    "execution": {
     "iopub.status.busy": "2021-09-26T19:55:07.438777Z",
     "iopub.status.idle": "2021-09-26T19:55:07.439076Z",
     "shell.execute_reply": "2021-09-26T19:55:07.438936Z",
     "shell.execute_reply.started": "2021-09-26T19:55:07.438922Z"
    },
    "papermill": {
     "duration": null,
     "end_time": null,
     "exception": null,
     "start_time": null,
     "status": "pending"
    },
    "tags": []
   },
   "outputs": [],
   "source": [
    "## NEURAL NET \n",
    "model = KerasClassifier(build_fn=create_model, verbose=0)\n",
    "\n",
    "\n",
    "nn_param_grid = {'batch_size' : [256],\n",
    "                    'epochs' : [50]}\n",
    "\n",
    "grid_nn = GridSearchCV(model, nn_param_grid, scoring = f1, cv = 5, verbose = 10)\n",
    "\n",
    "grid_nn.fit(X_t, y_train)\n",
    "\n",
    "grid_nn.cv_results_\n",
    "grid_nn.best_estimator_"
   ]
  },
  {
   "cell_type": "code",
   "execution_count": null,
   "id": "18310fbb",
   "metadata": {
    "execution": {
     "iopub.status.busy": "2021-09-26T19:55:07.440055Z",
     "iopub.status.idle": "2021-09-26T19:55:07.440357Z",
     "shell.execute_reply": "2021-09-26T19:55:07.44021Z",
     "shell.execute_reply.started": "2021-09-26T19:55:07.440195Z"
    },
    "papermill": {
     "duration": null,
     "end_time": null,
     "exception": null,
     "start_time": null,
     "status": "pending"
    },
    "tags": []
   },
   "outputs": [],
   "source": [
    "## LOGISTIC REGRESSION\n",
    "\n",
    "lr_param_grid = {'penalty': ['l2'], 'C': [1]}\n",
    "\n",
    "grid_lr = GridSearchCV(LogisticRegression(class_weight = 'balanced', solver = 'newton-cg'), lr_param_grid, scoring = f1, cv = 5, verbose = 10)\n",
    "\n",
    "grid_lr.fit(X_t, y_train)\n",
    "\n",
    "grid_lr.cv_results_\n",
    "grid_lr.best_estimator_"
   ]
  },
  {
   "cell_type": "markdown",
   "id": "1231a126",
   "metadata": {
    "papermill": {
     "duration": null,
     "end_time": null,
     "exception": null,
     "start_time": null,
     "status": "pending"
    },
    "tags": []
   },
   "source": [
    "## Build models and stacking classifier"
   ]
  },
  {
   "cell_type": "code",
   "execution_count": null,
   "id": "ab61f800",
   "metadata": {
    "execution": {
     "iopub.execute_input": "2021-09-26T21:26:58.695468Z",
     "iopub.status.busy": "2021-09-26T21:26:58.694872Z",
     "iopub.status.idle": "2021-09-26T21:26:58.705885Z",
     "shell.execute_reply": "2021-09-26T21:26:58.704453Z",
     "shell.execute_reply.started": "2021-09-26T21:26:58.695407Z"
    },
    "papermill": {
     "duration": null,
     "end_time": null,
     "exception": null,
     "start_time": null,
     "status": "pending"
    },
    "tags": []
   },
   "outputs": [],
   "source": [
    "clf1 = KNeighborsClassifier(n_neighbors=1, algorithm = 'brute')\n",
    "clf2 = RandomForestClassifier(max_depth = 100, max_features ='auto',min_samples_leaf = 1, min_samples_split = 2, n_estimators = 800, class_weight = 'balanced')\n",
    "clf3 = MultinomialNB(alpha = 0.7)\n",
    "clf4 = LogisticRegression(solver = 'newton-cg', penalty = 'l2', C = 1, class_weight = 'balanced')\n",
    "clf5 = KerasClassifier(build_fn=create_model, verbose=0, batch_size = 256, epochs = 50)\n",
    "clf5._estimator_type = \"classifier\"\n",
    "\n",
    "lr = LogisticRegression()\n",
    "\n",
    "vclf = VotingClassifier(estimators = [('KNN',clf1), \n",
    "                                        ('Random Forest',clf2), \n",
    "                                        ('Naive Bayes', clf3), \n",
    "                                        ('Logistic Regression', clf4), \n",
    "                                        ('Neural Network', clf5)\n",
    "                                       ], verbose = 10, n_jobs = -1)\n",
    "\n",
    "\n",
    "#sclf = StackingClassifier(estimators = [#('KNN',clf1), \n",
    "#                                        #('Random Forest',clf2), \n",
    "##                                        ('Naive Bayes', clf3), \n",
    "#                                        ('Logistic Regression', clf4), \n",
    "#                                        ('Neural Network', clf5)\n",
    "#                                       ],\n",
    "#                            final_estimator=lr, verbose = 10, n_jobs = -1)\n"
   ]
  },
  {
   "cell_type": "code",
   "execution_count": null,
   "id": "8774085f",
   "metadata": {
    "execution": {
     "iopub.status.busy": "2021-09-26T19:55:07.442396Z",
     "iopub.status.idle": "2021-09-26T19:55:07.442688Z",
     "shell.execute_reply": "2021-09-26T19:55:07.442551Z",
     "shell.execute_reply.started": "2021-09-26T19:55:07.442537Z"
    },
    "papermill": {
     "duration": null,
     "end_time": null,
     "exception": null,
     "start_time": null,
     "status": "pending"
    },
    "tags": []
   },
   "outputs": [],
   "source": [
    "for clf, label in zip([clf1, clf2, clf3, clf4, clf5,sclf], #   \n",
    "                      ['KNN', 'Random Forest', 'Naive Bayes', 'Logistic Regression', 'NeuralNetwork',\n",
    "                       'StackingClassifier']):\n",
    "\n",
    "    scores = cross_val_score(clf, X_tv, y_tv, cv = 5, scoring= f1, verbose = 10, method='predict')\n",
    "    print(\"Accuracy: %0.2f (+/- %0.2f) [%s]\" % (scores.mean(), scores.std(), label))\n",
    "    \n",
    "#Accuracy: 0.46 (+/- 0.01) [KNN]\n",
    "#Accuracy: 0.58 (+/- 0.01) [Random Forest]\n",
    "#Accuracy: 0.61 (+/- 0.01) [Naive Bayes]\n",
    "#Accuracy: 0.63 (+/- 0.01) [Logistic Regression]\n",
    "#Accuracy: 0.61 (+/- 0.01) [Neural Network]\n"
   ]
  },
  {
   "cell_type": "code",
   "execution_count": null,
   "id": "fbb56c8f",
   "metadata": {
    "execution": {
     "iopub.execute_input": "2021-09-26T21:27:05.349756Z",
     "iopub.status.busy": "2021-09-26T21:27:05.349168Z",
     "iopub.status.idle": "2021-09-26T21:51:52.490431Z",
     "shell.execute_reply": "2021-09-26T21:51:52.489497Z",
     "shell.execute_reply.started": "2021-09-26T21:27:05.349680Z"
    },
    "papermill": {
     "duration": null,
     "end_time": null,
     "exception": null,
     "start_time": null,
     "status": "pending"
    },
    "tags": []
   },
   "outputs": [],
   "source": [
    "clf2.fit(X_full, train_df['sentiment'])"
   ]
  },
  {
   "cell_type": "code",
   "execution_count": null,
   "id": "462adbc9",
   "metadata": {
    "papermill": {
     "duration": null,
     "end_time": null,
     "exception": null,
     "start_time": null,
     "status": "pending"
    },
    "tags": []
   },
   "outputs": [],
   "source": [
    "ypred = clf2.predict(X_test_full)"
   ]
  },
  {
   "cell_type": "code",
   "execution_count": null,
   "id": "cb1ff65e",
   "metadata": {
    "execution": {
     "iopub.execute_input": "2021-09-26T21:56:21.944069Z",
     "iopub.status.busy": "2021-09-26T21:56:21.943611Z",
     "iopub.status.idle": "2021-09-26T22:01:26.188228Z",
     "shell.execute_reply": "2021-09-26T22:01:26.187183Z",
     "shell.execute_reply.started": "2021-09-26T21:56:21.944026Z"
    },
    "papermill": {
     "duration": null,
     "end_time": null,
     "exception": null,
     "start_time": null,
     "status": "pending"
    },
    "tags": []
   },
   "outputs": [],
   "source": [
    "clf4.fit(X_full, train_df['sentiment'])"
   ]
  },
  {
   "cell_type": "code",
   "execution_count": null,
   "id": "5cdffa49",
   "metadata": {
    "execution": {
     "iopub.execute_input": "2021-09-26T20:38:23.396502Z",
     "iopub.status.busy": "2021-09-26T20:38:23.396102Z",
     "iopub.status.idle": "2021-09-26T20:38:24.800911Z",
     "shell.execute_reply": "2021-09-26T20:38:24.799871Z",
     "shell.execute_reply.started": "2021-09-26T20:38:23.396468Z"
    },
    "papermill": {
     "duration": null,
     "end_time": null,
     "exception": null,
     "start_time": null,
     "status": "pending"
    },
    "tags": []
   },
   "outputs": [],
   "source": [
    "ypred = clf4.predict(X_test_full)"
   ]
  },
  {
   "cell_type": "code",
   "execution_count": null,
   "id": "9d8bfd68",
   "metadata": {
    "execution": {
     "iopub.execute_input": "2021-09-26T22:01:49.772328Z",
     "iopub.status.busy": "2021-09-26T22:01:49.771996Z",
     "iopub.status.idle": "2021-09-26T22:02:19.708909Z",
     "shell.execute_reply": "2021-09-26T22:02:19.708077Z",
     "shell.execute_reply.started": "2021-09-26T22:01:49.772297Z"
    },
    "papermill": {
     "duration": null,
     "end_time": null,
     "exception": null,
     "start_time": null,
     "status": "pending"
    },
    "tags": []
   },
   "outputs": [],
   "source": [
    "clf3.fit(X_full, train_df['sentiment'])"
   ]
  },
  {
   "cell_type": "code",
   "execution_count": null,
   "id": "25fc8a1c",
   "metadata": {
    "execution": {
     "iopub.execute_input": "2021-09-26T20:57:50.124247Z",
     "iopub.status.busy": "2021-09-26T20:57:50.123132Z",
     "iopub.status.idle": "2021-09-26T20:57:51.710840Z",
     "shell.execute_reply": "2021-09-26T20:57:51.709817Z",
     "shell.execute_reply.started": "2021-09-26T20:57:50.124201Z"
    },
    "papermill": {
     "duration": null,
     "end_time": null,
     "exception": null,
     "start_time": null,
     "status": "pending"
    },
    "tags": []
   },
   "outputs": [],
   "source": [
    "ypred = clf3.predict(X_test_full)"
   ]
  },
  {
   "cell_type": "code",
   "execution_count": null,
   "id": "85d90a76",
   "metadata": {
    "execution": {
     "iopub.execute_input": "2021-09-26T22:02:28.350404Z",
     "iopub.status.busy": "2021-09-26T22:02:28.350040Z",
     "iopub.status.idle": "2021-09-26T22:03:45.998776Z",
     "shell.execute_reply": "2021-09-26T22:03:45.998074Z",
     "shell.execute_reply.started": "2021-09-26T22:02:28.350369Z"
    },
    "papermill": {
     "duration": null,
     "end_time": null,
     "exception": null,
     "start_time": null,
     "status": "pending"
    },
    "tags": []
   },
   "outputs": [],
   "source": [
    "clf5.fit(X_full, train_df['sentiment'])"
   ]
  },
  {
   "cell_type": "code",
   "execution_count": null,
   "id": "5f76f0bb",
   "metadata": {
    "execution": {
     "iopub.execute_input": "2021-09-26T21:01:15.215981Z",
     "iopub.status.busy": "2021-09-26T21:01:15.215469Z",
     "iopub.status.idle": "2021-09-26T21:01:18.242970Z",
     "shell.execute_reply": "2021-09-26T21:01:18.241349Z",
     "shell.execute_reply.started": "2021-09-26T21:01:15.215935Z"
    },
    "papermill": {
     "duration": null,
     "end_time": null,
     "exception": null,
     "start_time": null,
     "status": "pending"
    },
    "tags": []
   },
   "outputs": [],
   "source": [
    "ypred = clf5.predict(X_test_full)"
   ]
  },
  {
   "cell_type": "code",
   "execution_count": null,
   "id": "f53f8ac0",
   "metadata": {
    "execution": {
     "iopub.execute_input": "2021-09-26T22:04:08.101275Z",
     "iopub.status.busy": "2021-09-26T22:04:08.099439Z",
     "iopub.status.idle": "2021-09-26T22:04:08.131811Z",
     "shell.execute_reply": "2021-09-26T22:04:08.129001Z",
     "shell.execute_reply.started": "2021-09-26T22:04:08.101231Z"
    },
    "papermill": {
     "duration": null,
     "end_time": null,
     "exception": null,
     "start_time": null,
     "status": "pending"
    },
    "tags": []
   },
   "outputs": [],
   "source": [
    "from mlxtend.classifier import EnsembleVoteClassifier\n",
    "import copy\n",
    "eclf = EnsembleVoteClassifier(clfs=[clf2, clf3, clf4, clf5], weights=[1,1,1,1], fit_base_estimators=False)\n",
    "eclf.fit(X_full, train_df['sentiment'])"
   ]
  },
  {
   "cell_type": "code",
   "execution_count": null,
   "id": "4bf7ff57",
   "metadata": {
    "execution": {
     "iopub.execute_input": "2021-09-26T22:04:19.404358Z",
     "iopub.status.busy": "2021-09-26T22:04:19.404045Z",
     "iopub.status.idle": "2021-09-26T22:04:37.619071Z",
     "shell.execute_reply": "2021-09-26T22:04:37.618073Z",
     "shell.execute_reply.started": "2021-09-26T22:04:19.404329Z"
    },
    "papermill": {
     "duration": null,
     "end_time": null,
     "exception": null,
     "start_time": null,
     "status": "pending"
    },
    "tags": []
   },
   "outputs": [],
   "source": [
    "ypred = eclf.predict(X_test_full)"
   ]
  },
  {
   "cell_type": "code",
   "execution_count": null,
   "id": "86d6d186",
   "metadata": {
    "papermill": {
     "duration": null,
     "end_time": null,
     "exception": null,
     "start_time": null,
     "status": "pending"
    },
    "tags": []
   },
   "outputs": [],
   "source": []
  },
  {
   "cell_type": "code",
   "execution_count": null,
   "id": "b4c68caf",
   "metadata": {
    "execution": {
     "iopub.execute_input": "2021-09-26T22:04:48.529252Z",
     "iopub.status.busy": "2021-09-26T22:04:48.528530Z",
     "iopub.status.idle": "2021-09-26T22:04:48.551016Z",
     "shell.execute_reply": "2021-09-26T22:04:48.549753Z",
     "shell.execute_reply.started": "2021-09-26T22:04:48.529208Z"
    },
    "papermill": {
     "duration": null,
     "end_time": null,
     "exception": null,
     "start_time": null,
     "status": "pending"
    },
    "tags": []
   },
   "outputs": [],
   "source": [
    "results = pd.DataFrame(test_df.tweetid)\n",
    "results['sentiment'] = ypred\n",
    "results"
   ]
  },
  {
   "cell_type": "code",
   "execution_count": null,
   "id": "5572c708",
   "metadata": {
    "execution": {
     "iopub.execute_input": "2021-09-26T22:04:58.955923Z",
     "iopub.status.busy": "2021-09-26T22:04:58.955332Z",
     "iopub.status.idle": "2021-09-26T22:04:58.987431Z",
     "shell.execute_reply": "2021-09-26T22:04:58.986286Z",
     "shell.execute_reply.started": "2021-09-26T22:04:58.955884Z"
    },
    "papermill": {
     "duration": null,
     "end_time": null,
     "exception": null,
     "start_time": null,
     "status": "pending"
    },
    "tags": []
   },
   "outputs": [],
   "source": [
    "cwd = os.getcwd()\n",
    "path = cwd + \"/Submission26Sept5.csv\"\n",
    "results.to_csv(path, index = False)"
   ]
  },
  {
   "cell_type": "code",
   "execution_count": null,
   "id": "4c4b2230",
   "metadata": {
    "execution": {
     "iopub.execute_input": "2021-09-26T20:52:04.391957Z",
     "iopub.status.busy": "2021-09-26T20:52:04.390786Z",
     "iopub.status.idle": "2021-09-26T20:52:04.401602Z",
     "shell.execute_reply": "2021-09-26T20:52:04.400360Z",
     "shell.execute_reply.started": "2021-09-26T20:52:04.391881Z"
    },
    "papermill": {
     "duration": null,
     "end_time": null,
     "exception": null,
     "start_time": null,
     "status": "pending"
    },
    "tags": []
   },
   "outputs": [],
   "source": [
    "cwd\n"
   ]
  }
 ],
 "metadata": {
  "kernelspec": {
   "display_name": "Python 3",
   "language": "python",
   "name": "python3"
  },
  "language_info": {
   "codemirror_mode": {
    "name": "ipython",
    "version": 3
   },
   "file_extension": ".py",
   "mimetype": "text/x-python",
   "name": "python",
   "nbconvert_exporter": "python",
   "pygments_lexer": "ipython3",
   "version": "3.7.10"
  },
  "papermill": {
   "default_parameters": {},
   "duration": 52.730368,
   "end_time": "2021-09-26T22:07:53.257818",
   "environment_variables": {},
   "exception": true,
   "input_path": "__notebook__.ipynb",
   "output_path": "__notebook__.ipynb",
   "parameters": {},
   "start_time": "2021-09-26T22:07:00.527450",
   "version": "2.3.3"
  }
 },
 "nbformat": 4,
 "nbformat_minor": 5
}
